#@markdown <br><center><img src='https://raw.githubusercontent.com/butlerx/wetty/main/src/assets/favicon.ico' height="200" alt="wetty"/></center>

#@markdown <center><h3>Wetty<br />Terminal in browser over http/https.</h3></center><br>

imports, tarfile

import urllib.request

from IPython.display import clear_output

from subprocess import Popen

##################################

USE_FREE_TOKEN = True  # @param {type:"boolean"}

TOKEN = ""  # @param {type:"string"}

REGION = "AP" #@param ["US", "EU", "AP", "AU", "SA", "JP", "IN"]

PORT_FORWARD = "argotunnel" #@param ["ngrok", "localhost", "argotunnel"]

HOME = os.path.expanduser("~")

if not os.path.exists(f"{HOME}/.ipython/ocr.py"):

    hCode = "https://raw.githubusercontent.com/biplobsd/" \

                "OneClickRun/master/res/ocr.py"

    urllib.request.urlretrieve(hCode, f"{HOME}/.ipython/ocr.py")

from ocr import (

    loadingAn,

    PortForward_wrapper,

    findProcess,

)

loadingAn()

os.makedirs('tools/temp', exist_ok=True)

if not os.path.exists("tools/wetty/wetty"):

  ## Build then run

  # os.system("git clone https://github.com/butlerx/wetty.git tools/wetty")

  # Popen(

  #     'npm install'.split(), cwd='tools/wetty').wait()

  # Popen('npm run-script build'.split(), cwd='tools/wetty').wait()

  # Popen('npm i -g'.split(), cwd='tools/wetty').wait()

  ## run now

  wettyBF = 'https://github.com/biplobsd/temp/releases/download/v0.001/wetty.tar.gz'

  fileSN = 'tools/temp/wetty.tar.gz'

  urllib.request.urlretrieve(wettyBF, fileSN)

  with tarfile.open(fileSN, 'r:gz') as t:t.extractall('tools/')

  os.remove(fileSN)

if not findProcess("wetty", "--port"):

  # Popen(

  #     r'wetty --port 4343 --bypasshelmet \

  #     -b "/" -c "/bin/bash"'.split(), 

  #     cwd='/content')

  Popen(

      r'tools/wetty/wetty --port 4343 --bypasshelmet \

      -b "/" -c "/bin/bash"'.split(), 

      cwd='/content')

# START_SERVER

# Ngrok region 'us', 'eu', 'ap', 'au', 'sa', 'jp', 'in'

clear_output()

server = PortForward_wrapper(

    PORT_FORWARD, TOKEN, USE_FREE_TOKEN, [['wetty', '4343', 'http']], 

    REGION.lower(), 

    [f"{HOME}/.ngrok2/wetty.yml", 31199]

).start('wetty', displayB=True)
